{
  "nbformat": 4,
  "nbformat_minor": 0,
  "metadata": {
    "colab": {
      "name": "Lógica de programação Python.ipynb",
      "provenance": [],
      "collapsed_sections": [
        "eP2hEyNnHdbJ",
        "bJeX-iafIMC_",
        "E8RNXIU-JMZc",
        "qxc3eqlnbF0C",
        "EUADtFbibaPq",
        "boR3BjhPiAmC",
        "J8x7okaXjdQ7",
        "sxR_4-O4kFWV"
      ]
    },
    "kernelspec": {
      "name": "python3",
      "display_name": "Python 3"
    },
    "language_info": {
      "name": "python"
    }
  },
  "cells": [
    {
      "cell_type": "markdown",
      "source": [
        "# Lógica de programação com **Python**"
      ],
      "metadata": {
        "id": "eP2hEyNnHdbJ"
      }
    },
    {
      "cell_type": "code",
      "execution_count": null,
      "metadata": {
        "colab": {
          "base_uri": "https://localhost:8080/"
        },
        "id": "4NmNqzbHHVj5",
        "outputId": "6a1cce81-b39e-4872-d500-05a7a751c0a6"
      },
      "outputs": [
        {
          "output_type": "execute_result",
          "data": {
            "text/plain": [
              "2"
            ]
          },
          "metadata": {},
          "execution_count": 1
        }
      ],
      "source": [
        "1+1 #numero roda normal"
      ]
    },
    {
      "cell_type": "code",
      "source": [
        "Marcelo #Dá erro pois tem que ser passado por \" aspas simples ou duplas\n",
        "\"Marcelo\""
      ],
      "metadata": {
        "id": "EfNbhEQAH4CV"
      },
      "execution_count": null,
      "outputs": []
    },
    {
      "cell_type": "code",
      "source": [
        "\"Marcelo\""
      ],
      "metadata": {
        "colab": {
          "base_uri": "https://localhost:8080/",
          "height": 35
        },
        "id": "eIQcF7EFIFJB",
        "outputId": "67c2dc34-8f7e-400f-c9db-058c201616f1"
      },
      "execution_count": null,
      "outputs": [
        {
          "output_type": "execute_result",
          "data": {
            "text/plain": [
              "'Marcelo'"
            ],
            "application/vnd.google.colaboratory.intrinsic+json": {
              "type": "string"
            }
          },
          "metadata": {},
          "execution_count": 3
        }
      ]
    },
    {
      "cell_type": "markdown",
      "source": [
        "# Armazenando em uma **variável**"
      ],
      "metadata": {
        "id": "bJeX-iafIMC_"
      }
    },
    {
      "cell_type": "code",
      "source": [
        "nome = \"Marcelo\"  #definindo uma variável"
      ],
      "metadata": {
        "id": "ftSHHbGFIPz7"
      },
      "execution_count": null,
      "outputs": []
    },
    {
      "cell_type": "code",
      "source": [
        "nome #printando a variável armazenada"
      ],
      "metadata": {
        "colab": {
          "base_uri": "https://localhost:8080/",
          "height": 35
        },
        "id": "WqxzYAfGIVeq",
        "outputId": "b98d8c31-6483-4540-d7db-c44c04c92588"
      },
      "execution_count": null,
      "outputs": [
        {
          "output_type": "execute_result",
          "data": {
            "text/plain": [
              "'Marcelo'"
            ],
            "application/vnd.google.colaboratory.intrinsic+json": {
              "type": "string"
            }
          },
          "metadata": {},
          "execution_count": 5
        }
      ]
    },
    {
      "cell_type": "code",
      "source": [
        "print(nome) #mesma função da linha acima exibindo com a variável"
      ],
      "metadata": {
        "colab": {
          "base_uri": "https://localhost:8080/"
        },
        "id": "SEufBjanIWH9",
        "outputId": "8b95d881-879e-4f7d-d5ac-ddf45c494c5e"
      },
      "execution_count": null,
      "outputs": [
        {
          "output_type": "stream",
          "name": "stdout",
          "text": [
            "Marcelo\n"
          ]
        }
      ]
    },
    {
      "cell_type": "code",
      "source": [
        "idade = 31"
      ],
      "metadata": {
        "id": "r7AOkR8DJAVf"
      },
      "execution_count": null,
      "outputs": []
    },
    {
      "cell_type": "markdown",
      "source": [
        "# Criando a primeira **função**"
      ],
      "metadata": {
        "id": "E8RNXIU-JMZc"
      }
    },
    {
      "cell_type": "code",
      "source": [
        "print (f'O nome é {nome} e sua idade é {idade} anos') #variáveis dentro do Print coloca-se {} chaves."
      ],
      "metadata": {
        "colab": {
          "base_uri": "https://localhost:8080/"
        },
        "id": "62QqyyfPIqDz",
        "outputId": "a6c4b9fd-73f0-420b-e3f8-02bf15c173d1"
      },
      "execution_count": null,
      "outputs": [
        {
          "output_type": "stream",
          "name": "stdout",
          "text": [
            "O nome é Marcelo e sua idade é 31 anos\n"
          ]
        }
      ]
    },
    {
      "cell_type": "code",
      "source": [
        "def saudacao():\n",
        "  nome = input('Qual o seu nome? ')\n",
        "  print(f' Olá {nome}')"
      ],
      "metadata": {
        "id": "Wqzle1KpJLL4"
      },
      "execution_count": null,
      "outputs": []
    },
    {
      "cell_type": "code",
      "source": [
        "saudacao()"
      ],
      "metadata": {
        "colab": {
          "base_uri": "https://localhost:8080/"
        },
        "id": "ZCdBdgHxJ_xf",
        "outputId": "b51e33fb-314d-4fd3-d044-e05adc724850"
      },
      "execution_count": null,
      "outputs": [
        {
          "output_type": "stream",
          "name": "stdout",
          "text": [
            "Qual o seu nome? Bira\n",
            " Olá Bira\n"
          ]
        }
      ]
    },
    {
      "cell_type": "markdown",
      "source": [
        "## Parâmetros"
      ],
      "metadata": {
        "id": "qxc3eqlnbF0C"
      }
    },
    {
      "cell_type": "code",
      "source": [
        "nome = 'Costa'"
      ],
      "metadata": {
        "id": "EgkT-TdraVqz"
      },
      "execution_count": null,
      "outputs": []
    },
    {
      "cell_type": "code",
      "source": [
        "def saudacao_com_parametros(nome_da_pessoa):\n",
        "  print(f' Olá {nome_da_pessoa} ' )"
      ],
      "metadata": {
        "id": "WzO6zXNKaZHJ"
      },
      "execution_count": null,
      "outputs": []
    },
    {
      "cell_type": "code",
      "source": [
        "saudacao_com_parametros(nome)"
      ],
      "metadata": {
        "colab": {
          "base_uri": "https://localhost:8080/"
        },
        "id": "b-fZMxJiaof5",
        "outputId": "ff1a93f0-872d-40cb-e580-c248b010b606"
      },
      "execution_count": null,
      "outputs": [
        {
          "output_type": "stream",
          "name": "stdout",
          "text": [
            " Olá Costa \n"
          ]
        }
      ]
    },
    {
      "cell_type": "markdown",
      "source": [
        "# Condicional"
      ],
      "metadata": {
        "id": "EUADtFbibaPq"
      }
    },
    {
      "cell_type": "code",
      "source": [
        "idade = 17\n",
        "\n",
        "def verifica_se_pode_dirigir(idade):\n",
        "  if idade >= 18:\n",
        "    print('Tem permissão para dirigir')\n",
        "  else:\n",
        "    print ('Não tem permissão para dirigir')\n",
        "\n",
        "verifica_se_pode_dirigir(idade)"
      ],
      "metadata": {
        "colab": {
          "base_uri": "https://localhost:8080/"
        },
        "id": "izEeuAbkbbxz",
        "outputId": "fef16b10-a7ab-48ee-8655-25c0d9c1ede2"
      },
      "execution_count": null,
      "outputs": [
        {
          "output_type": "stream",
          "name": "stdout",
          "text": [
            "Não tem permissão para dirigir\n"
          ]
        }
      ]
    },
    {
      "cell_type": "markdown",
      "source": [
        "# **Convertendo para Inteiro**"
      ],
      "metadata": {
        "id": "boR3BjhPiAmC"
      }
    },
    {
      "cell_type": "code",
      "source": [
        "def verifica_se_pode_dirigir_sem_parametros():\n",
        "  idade = input('Qual a sua idade?') #input está indo como str, temos que converter para poder comparar o número int x int.\n",
        "  idade = int(idade) #definindo o input como inteiro para poder ser comparado com outro número\n",
        "  if idade >= 18:\n",
        "    print('Tem permissão para dirigir')\n",
        "  else:\n",
        "    print ('Não tem permissão para dirigir')\n",
        "\n",
        "verifica_se_pode_dirigir_sem_parametros()\n"
      ],
      "metadata": {
        "colab": {
          "base_uri": "https://localhost:8080/"
        },
        "id": "gADaCR12bdIx",
        "outputId": "a17d69a2-77e7-4016-94b5-7aece5675d78"
      },
      "execution_count": null,
      "outputs": [
        {
          "output_type": "stream",
          "name": "stdout",
          "text": [
            "Qual a sua idade?21\n",
            "Tem permissão para dirigir\n"
          ]
        }
      ]
    },
    {
      "cell_type": "code",
      "source": [
        "def habilitacao():\n",
        " idade = input('Qual sua idade? ')\n",
        " idade = int(idade)\n",
        " if idade >= 18:\n",
        "   print('Pode tirar habilitação')\n",
        " else:\n",
        "   tempo = 18 - idade\n",
        "   print(f'Calma... espere {tempo} ano(s) para tirar habilitação')\n",
        "\n",
        "habilitacao()"
      ],
      "metadata": {
        "colab": {
          "base_uri": "https://localhost:8080/"
        },
        "id": "HM-3xOfajBoN",
        "outputId": "d0f311fa-d4ab-4d82-9655-ad8f05e03998"
      },
      "execution_count": null,
      "outputs": [
        {
          "output_type": "stream",
          "name": "stdout",
          "text": [
            "Qual sua idade? 16\n",
            "Calma... espere 2 ano(s) para tirar habilitação\n"
          ]
        }
      ]
    },
    {
      "cell_type": "markdown",
      "source": [
        "# Operadores em Python"
      ],
      "metadata": {
        "id": "J8x7okaXjdQ7"
      }
    },
    {
      "cell_type": "markdown",
      "source": [
        "![operadores.png](data:image/png;base64,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)"
      ],
      "metadata": {
        "id": "j9UhC8Xajagm"
      }
    },
    {
      "cell_type": "markdown",
      "source": [
        "# **Lista**"
      ],
      "metadata": {
        "id": "sxR_4-O4kFWV"
      }
    },
    {
      "cell_type": "code",
      "source": [
        "idade = 22\n",
        "idade"
      ],
      "metadata": {
        "colab": {
          "base_uri": "https://localhost:8080/"
        },
        "id": "5B3q8Rc2kIkT",
        "outputId": "02b13e51-1a92-48e0-a0dd-4965eafe67b3"
      },
      "execution_count": null,
      "outputs": [
        {
          "output_type": "execute_result",
          "data": {
            "text/plain": [
              "22"
            ]
          },
          "metadata": {},
          "execution_count": 41
        }
      ]
    },
    {
      "cell_type": "code",
      "source": [
        "type(idade)"
      ],
      "metadata": {
        "colab": {
          "base_uri": "https://localhost:8080/"
        },
        "id": "UPRsLJIskOkT",
        "outputId": "bd8ba199-c20e-4bd6-a3e6-f8d6c6157ba0"
      },
      "execution_count": null,
      "outputs": [
        {
          "output_type": "execute_result",
          "data": {
            "text/plain": [
              "int"
            ]
          },
          "metadata": {},
          "execution_count": 42
        }
      ]
    },
    {
      "cell_type": "code",
      "source": [
        "nome = 'Marcelo'"
      ],
      "metadata": {
        "id": "rRkrO4R0kPlQ"
      },
      "execution_count": null,
      "outputs": []
    },
    {
      "cell_type": "code",
      "source": [
        "type(nome)"
      ],
      "metadata": {
        "colab": {
          "base_uri": "https://localhost:8080/"
        },
        "id": "l6a6L3iJkVK0",
        "outputId": "195368f0-5d24-4b5c-c64c-c6fe7a3d59d4"
      },
      "execution_count": null,
      "outputs": [
        {
          "output_type": "execute_result",
          "data": {
            "text/plain": [
              "str"
            ]
          },
          "metadata": {},
          "execution_count": 44
        }
      ]
    },
    {
      "cell_type": "code",
      "source": [
        "idades = [18, 22, 30, 50]\n",
        "type(idades)"
      ],
      "metadata": {
        "colab": {
          "base_uri": "https://localhost:8080/"
        },
        "id": "E-LuzklwkWS8",
        "outputId": "7364c4d0-f4a5-439d-c93e-a3636465e48f"
      },
      "execution_count": null,
      "outputs": [
        {
          "output_type": "execute_result",
          "data": {
            "text/plain": [
              "list"
            ]
          },
          "metadata": {},
          "execution_count": 46
        }
      ]
    },
    {
      "cell_type": "code",
      "source": [
        "idades = [18, 22, 30, 50]\n",
        "print(idades[2])"
      ],
      "metadata": {
        "colab": {
          "base_uri": "https://localhost:8080/"
        },
        "id": "_Z4hveCykjcb",
        "outputId": "31b275bb-8d93-44e9-cdda-7a96d6278ac2"
      },
      "execution_count": null,
      "outputs": [
        {
          "output_type": "stream",
          "name": "stdout",
          "text": [
            "30\n"
          ]
        }
      ]
    },
    {
      "cell_type": "code",
      "source": [
        "idades = [18, 22, 30, 50]  #indices \n",
        "          #0    1   2   3"
      ],
      "metadata": {
        "id": "V_JyKBSck360"
      },
      "execution_count": null,
      "outputs": []
    },
    {
      "cell_type": "code",
      "source": [
        "idades[0:2] #ultimo elemento é excluido"
      ],
      "metadata": {
        "colab": {
          "base_uri": "https://localhost:8080/"
        },
        "id": "yQN800w7lH2M",
        "outputId": "77b21ed2-68a0-4c5d-9755-e5c0b8427c86"
      },
      "execution_count": null,
      "outputs": [
        {
          "output_type": "execute_result",
          "data": {
            "text/plain": [
              "[18, 22]"
            ]
          },
          "metadata": {},
          "execution_count": 48
        }
      ]
    },
    {
      "cell_type": "code",
      "source": [
        "idades[0:3]"
      ],
      "metadata": {
        "colab": {
          "base_uri": "https://localhost:8080/"
        },
        "id": "BmH2wVZzlNPY",
        "outputId": "943d69c3-5d49-4981-872b-dab8953e2356"
      },
      "execution_count": null,
      "outputs": [
        {
          "output_type": "execute_result",
          "data": {
            "text/plain": [
              "[18, 22, 30]"
            ]
          },
          "metadata": {},
          "execution_count": 49
        }
      ]
    },
    {
      "cell_type": "code",
      "source": [
        "idades[-1] #pegando o último indice"
      ],
      "metadata": {
        "colab": {
          "base_uri": "https://localhost:8080/"
        },
        "id": "S_w_G6LYleHT",
        "outputId": "b3019f15-933d-4ed9-e6f1-78fda4d6eaaf"
      },
      "execution_count": null,
      "outputs": [
        {
          "output_type": "execute_result",
          "data": {
            "text/plain": [
              "50"
            ]
          },
          "metadata": {},
          "execution_count": 50
        }
      ]
    },
    {
      "cell_type": "code",
      "source": [
        "idades[1:] #do primeiro ao último"
      ],
      "metadata": {
        "colab": {
          "base_uri": "https://localhost:8080/"
        },
        "id": "o_STPyo3lfYE",
        "outputId": "927e19ce-0fee-4cbf-8593-37794ba8e805"
      },
      "execution_count": null,
      "outputs": [
        {
          "output_type": "execute_result",
          "data": {
            "text/plain": [
              "[22, 30, 50]"
            ]
          },
          "metadata": {},
          "execution_count": 52
        }
      ]
    },
    {
      "cell_type": "code",
      "source": [
        ""
      ],
      "metadata": {
        "id": "wv1OH_nXlj60"
      },
      "execution_count": null,
      "outputs": []
    },
    {
      "cell_type": "markdown",
      "source": [
        "# **Laços e loops**"
      ],
      "metadata": {
        "id": "ppPgGf0sm6eb"
      }
    },
    {
      "cell_type": "code",
      "source": [
        "idades = [ 18, 22, 15, 50]\n",
        "idades"
      ],
      "metadata": {
        "colab": {
          "base_uri": "https://localhost:8080/"
        },
        "id": "IyFNaaRSncFC",
        "outputId": "f8831508-f96a-4781-953a-d60d8b7a4c77"
      },
      "execution_count": 12,
      "outputs": [
        {
          "output_type": "execute_result",
          "data": {
            "text/plain": [
              "[18, 22, 15, 50]"
            ]
          },
          "metadata": {},
          "execution_count": 12
        }
      ]
    },
    {
      "cell_type": "code",
      "source": [
        "def verifica_se_pode_dirigir(idades):\n",
        " for idade in idades:\n",
        "  if idade >= 18:\n",
        "    print(f'{idade} anos de idade, Tem permissão para dirigir')\n",
        "  else:\n",
        "    print (f'{idade} anos de idade, Não tem permissão para dirigir')\n",
        "\n",
        "verifica_se_pode_dirigir(idades)"
      ],
      "metadata": {
        "colab": {
          "base_uri": "https://localhost:8080/"
        },
        "id": "WxbZ2bbYm89n",
        "outputId": "b6ca35e3-ec91-411f-973e-f55762a6290e"
      },
      "execution_count": 14,
      "outputs": [
        {
          "output_type": "stream",
          "name": "stdout",
          "text": [
            "18 anos de idade, Tem permissão para dirigir\n",
            "22 anos de idade, Tem permissão para dirigir\n",
            "15 anos de idade, Não tem permissão para dirigir\n",
            "50 anos de idade, Tem permissão para dirigir\n"
          ]
        }
      ]
    },
    {
      "cell_type": "markdown",
      "source": [
        "## Boleano"
      ],
      "metadata": {
        "id": "M-CK0Sn0K7-F"
      }
    },
    {
      "cell_type": "code",
      "source": [
        "idade = 18\n",
        "idade >= 18"
      ],
      "metadata": {
        "colab": {
          "base_uri": "https://localhost:8080/"
        },
        "id": "K0Tz6AWoK9yc",
        "outputId": "95603ec9-b3ae-423d-c74f-29d1bba37190"
      },
      "execution_count": 7,
      "outputs": [
        {
          "output_type": "execute_result",
          "data": {
            "text/plain": [
              "True"
            ]
          },
          "metadata": {},
          "execution_count": 7
        }
      ]
    },
    {
      "cell_type": "code",
      "source": [
        "idade = 15\n",
        "idade >= 18"
      ],
      "metadata": {
        "colab": {
          "base_uri": "https://localhost:8080/"
        },
        "id": "UeoX7AzEK_Yc",
        "outputId": "3af88b07-cb6d-4a0b-a9b8-102234b619e9"
      },
      "execution_count": 8,
      "outputs": [
        {
          "output_type": "execute_result",
          "data": {
            "text/plain": [
              "False"
            ]
          },
          "metadata": {},
          "execution_count": 8
        }
      ]
    },
    {
      "cell_type": "code",
      "source": [
        "permissoes = []\n",
        "idades = [20, 14, 40]\n",
        "\n",
        "def verifica_se_pode_dirigir(idades, permissoes):\n",
        "  for idade in idades:\n",
        "    if idade >= 18:\n",
        "      permissoes.append(True)\n",
        "    else:\n",
        "      permissoes.append(False) \n",
        "\n",
        "verifica_se_pode_dirigir(idades, permissoes)"
      ],
      "metadata": {
        "id": "wC7-Yam7LHW7"
      },
      "execution_count": 16,
      "outputs": []
    },
    {
      "cell_type": "code",
      "source": [
        "permissoes"
      ],
      "metadata": {
        "colab": {
          "base_uri": "https://localhost:8080/"
        },
        "id": "eOdZZBRaLHvi",
        "outputId": "55663076-e90a-4f9c-8ca3-7d0ed34e48f9"
      },
      "execution_count": 17,
      "outputs": [
        {
          "output_type": "execute_result",
          "data": {
            "text/plain": [
              "[True, False, True]"
            ]
          },
          "metadata": {},
          "execution_count": 17
        }
      ]
    },
    {
      "cell_type": "code",
      "source": [
        "for permissao in permissoes:\n",
        "  if permissao == True:\n",
        "    print('Termissão para dirigir')\n",
        "  else:\n",
        "    print('Não tem permissão para dirigir')  "
      ],
      "metadata": {
        "colab": {
          "base_uri": "https://localhost:8080/"
        },
        "id": "6qCsYv10MLx2",
        "outputId": "e6935482-266e-434b-e895-12f2284e3544"
      },
      "execution_count": 18,
      "outputs": [
        {
          "output_type": "stream",
          "name": "stdout",
          "text": [
            "Termissão para dirigir\n",
            "Não tem permissão para dirigir\n",
            "Termissão para dirigir\n"
          ]
        }
      ]
    },
    {
      "cell_type": "code",
      "source": [
        "a=2\n",
        "\n",
        "if a < 2:\n",
        " a = a + 1\n",
        "else:\n",
        " a = a + 2\n",
        "if a < 4:\n",
        " a = a - 4\n",
        "else:\n",
        " a = a + 6\n",
        "\n",
        "a"
      ],
      "metadata": {
        "colab": {
          "base_uri": "https://localhost:8080/"
        },
        "id": "UxvmsaaPMix9",
        "outputId": "f355952f-695f-44da-bf07-e73aadaec9e4"
      },
      "execution_count": 19,
      "outputs": [
        {
          "output_type": "execute_result",
          "data": {
            "text/plain": [
              "10"
            ]
          },
          "metadata": {},
          "execution_count": 19
        }
      ]
    }
  ]
}