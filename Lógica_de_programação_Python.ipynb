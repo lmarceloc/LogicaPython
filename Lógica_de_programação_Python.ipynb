{
  "nbformat": 4,
  "nbformat_minor": 0,
  "metadata": {
    "colab": {
      "name": "Lógica de programação Python.ipynb",
      "provenance": [],
      "collapsed_sections": []
    },
    "kernelspec": {
      "name": "python3",
      "display_name": "Python 3"
    },
    "language_info": {
      "name": "python"
    }
  },
  "cells": [
    {
      "cell_type": "markdown",
      "source": [
        "# Lógica de programação com **Python**"
      ],
      "metadata": {
        "id": "eP2hEyNnHdbJ"
      }
    },
    {
      "cell_type": "code",
      "execution_count": null,
      "metadata": {
        "colab": {
          "base_uri": "https://localhost:8080/"
        },
        "id": "4NmNqzbHHVj5",
        "outputId": "6a1cce81-b39e-4872-d500-05a7a751c0a6"
      },
      "outputs": [
        {
          "output_type": "execute_result",
          "data": {
            "text/plain": [
              "2"
            ]
          },
          "metadata": {},
          "execution_count": 1
        }
      ],
      "source": [
        "1+1 #numero roda normal"
      ]
    },
    {
      "cell_type": "code",
      "source": [
        "Marcelo #Dá erro pois tem que ser passado por \" aspas simples ou duplas\n",
        "\"Marcelo\""
      ],
      "metadata": {
        "id": "EfNbhEQAH4CV"
      },
      "execution_count": null,
      "outputs": []
    },
    {
      "cell_type": "code",
      "source": [
        "\"Marcelo\""
      ],
      "metadata": {
        "colab": {
          "base_uri": "https://localhost:8080/",
          "height": 35
        },
        "id": "eIQcF7EFIFJB",
        "outputId": "67c2dc34-8f7e-400f-c9db-058c201616f1"
      },
      "execution_count": null,
      "outputs": [
        {
          "output_type": "execute_result",
          "data": {
            "text/plain": [
              "'Marcelo'"
            ],
            "application/vnd.google.colaboratory.intrinsic+json": {
              "type": "string"
            }
          },
          "metadata": {},
          "execution_count": 3
        }
      ]
    },
    {
      "cell_type": "markdown",
      "source": [
        "# Armazenando em uma **variável**"
      ],
      "metadata": {
        "id": "bJeX-iafIMC_"
      }
    },
    {
      "cell_type": "code",
      "source": [
        "nome = \"Marcelo\"  #definindo uma variável"
      ],
      "metadata": {
        "id": "ftSHHbGFIPz7"
      },
      "execution_count": null,
      "outputs": []
    },
    {
      "cell_type": "code",
      "source": [
        "nome #printando a variável armazenada"
      ],
      "metadata": {
        "colab": {
          "base_uri": "https://localhost:8080/",
          "height": 35
        },
        "id": "WqxzYAfGIVeq",
        "outputId": "b98d8c31-6483-4540-d7db-c44c04c92588"
      },
      "execution_count": null,
      "outputs": [
        {
          "output_type": "execute_result",
          "data": {
            "text/plain": [
              "'Marcelo'"
            ],
            "application/vnd.google.colaboratory.intrinsic+json": {
              "type": "string"
            }
          },
          "metadata": {},
          "execution_count": 5
        }
      ]
    },
    {
      "cell_type": "code",
      "source": [
        "print(nome) #mesma função da linha acima exibindo com a variável"
      ],
      "metadata": {
        "colab": {
          "base_uri": "https://localhost:8080/"
        },
        "id": "SEufBjanIWH9",
        "outputId": "8b95d881-879e-4f7d-d5ac-ddf45c494c5e"
      },
      "execution_count": null,
      "outputs": [
        {
          "output_type": "stream",
          "name": "stdout",
          "text": [
            "Marcelo\n"
          ]
        }
      ]
    },
    {
      "cell_type": "code",
      "source": [
        "idade = 31"
      ],
      "metadata": {
        "id": "r7AOkR8DJAVf"
      },
      "execution_count": null,
      "outputs": []
    },
    {
      "cell_type": "markdown",
      "source": [
        "# Criando a primeira **função**"
      ],
      "metadata": {
        "id": "E8RNXIU-JMZc"
      }
    },
    {
      "cell_type": "code",
      "source": [
        "print (f'O nome é {nome} e sua idade é {idade} anos') #variáveis dentro do Print coloca-se {} chaves."
      ],
      "metadata": {
        "colab": {
          "base_uri": "https://localhost:8080/"
        },
        "id": "62QqyyfPIqDz",
        "outputId": "a6c4b9fd-73f0-420b-e3f8-02bf15c173d1"
      },
      "execution_count": null,
      "outputs": [
        {
          "output_type": "stream",
          "name": "stdout",
          "text": [
            "O nome é Marcelo e sua idade é 31 anos\n"
          ]
        }
      ]
    },
    {
      "cell_type": "code",
      "source": [
        "def saudacao():\n",
        "  nome = input('Qual o seu nome? ')\n",
        "  print(f' Olá {nome}')"
      ],
      "metadata": {
        "id": "Wqzle1KpJLL4"
      },
      "execution_count": null,
      "outputs": []
    },
    {
      "cell_type": "code",
      "source": [
        "saudacao()"
      ],
      "metadata": {
        "colab": {
          "base_uri": "https://localhost:8080/"
        },
        "id": "ZCdBdgHxJ_xf",
        "outputId": "b51e33fb-314d-4fd3-d044-e05adc724850"
      },
      "execution_count": 15,
      "outputs": [
        {
          "output_type": "stream",
          "name": "stdout",
          "text": [
            "Qual o seu nome? Bira\n",
            " Olá Bira\n"
          ]
        }
      ]
    },
    {
      "cell_type": "markdown",
      "source": [
        "## Parâmetros"
      ],
      "metadata": {
        "id": "qxc3eqlnbF0C"
      }
    },
    {
      "cell_type": "code",
      "source": [
        "nome = 'Costa'"
      ],
      "metadata": {
        "id": "EgkT-TdraVqz"
      },
      "execution_count": 16,
      "outputs": []
    },
    {
      "cell_type": "code",
      "source": [
        "def saudacao_com_parametros(nome_da_pessoa):\n",
        "  print(f' Olá {nome_da_pessoa} ' )"
      ],
      "metadata": {
        "id": "WzO6zXNKaZHJ"
      },
      "execution_count": 23,
      "outputs": []
    },
    {
      "cell_type": "code",
      "source": [
        "saudacao_com_parametros(nome)"
      ],
      "metadata": {
        "colab": {
          "base_uri": "https://localhost:8080/"
        },
        "id": "b-fZMxJiaof5",
        "outputId": "ff1a93f0-872d-40cb-e580-c248b010b606"
      },
      "execution_count": 24,
      "outputs": [
        {
          "output_type": "stream",
          "name": "stdout",
          "text": [
            " Olá Costa \n"
          ]
        }
      ]
    },
    {
      "cell_type": "markdown",
      "source": [
        "# Condicional"
      ],
      "metadata": {
        "id": "EUADtFbibaPq"
      }
    },
    {
      "cell_type": "code",
      "source": [
        "idade = 17\n",
        "\n",
        "def verifica_se_pode_dirigir(idade):\n",
        "  if idade >= 18:\n",
        "    print('Tem permissão para dirigir')\n",
        "  else:\n",
        "    print ('Não tem permissão para dirigir')\n",
        "\n",
        "verifica_se_pode_dirigir(idade)"
      ],
      "metadata": {
        "colab": {
          "base_uri": "https://localhost:8080/"
        },
        "id": "izEeuAbkbbxz",
        "outputId": "fef16b10-a7ab-48ee-8655-25c0d9c1ede2"
      },
      "execution_count": 34,
      "outputs": [
        {
          "output_type": "stream",
          "name": "stdout",
          "text": [
            "Não tem permissão para dirigir\n"
          ]
        }
      ]
    },
    {
      "cell_type": "code",
      "source": [
        "def verifica_se_pode_dirigir_sem_parametros():\n",
        "  idade = input('Qual a sua idade?') #input está indo como str, temos que converter para poder comparar o número int x int.\n",
        "  idade = int(idade) #definindo o input como inteiro para poder ser comparado com outro número\n",
        "  if idade >= 18:\n",
        "    print('Tem permissão para dirigir')\n",
        "  else:\n",
        "    print ('Não tem permissão para dirigir')\n",
        "\n",
        "verifica_se_pode_dirigir_sem_parametros()\n"
      ],
      "metadata": {
        "colab": {
          "base_uri": "https://localhost:8080/"
        },
        "id": "gADaCR12bdIx",
        "outputId": "a17d69a2-77e7-4016-94b5-7aece5675d78"
      },
      "execution_count": 38,
      "outputs": [
        {
          "output_type": "stream",
          "name": "stdout",
          "text": [
            "Qual a sua idade?21\n",
            "Tem permissão para dirigir\n"
          ]
        }
      ]
    }
  ]
}